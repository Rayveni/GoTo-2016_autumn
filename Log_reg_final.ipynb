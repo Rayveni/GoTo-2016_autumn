{
 "cells": [
  {
   "cell_type": "code",
   "execution_count": 1,
   "metadata": {
    "collapsed": false
   },
   "outputs": [
    {
     "name": "stderr",
     "output_type": "stream",
     "text": [
      "C:\\Users\\Piboditheowl\\Anaconda2\\lib\\site-packages\\gensim\\utils.py:840: UserWarning: detected Windows; aliasing chunkize to chunkize_serial\n",
      "  warnings.warn(\"detected Windows; aliasing chunkize to chunkize_serial\")\n",
      "C:\\Users\\Piboditheowl\\Anaconda2\\lib\\site-packages\\gensim\\utils.py:1015: UserWarning: Pattern library is not installed, lemmatization won't be available.\n",
      "  warnings.warn(\"Pattern library is not installed, lemmatization won't be available.\")\n"
     ]
    }
   ],
   "source": [
    "from smart_open import smart_open\n",
    "import pandas as pd\n",
    "import numpy as np\n",
    "import gensim\n",
    "import nltk\n",
    "from sklearn.cross_validation import train_test_split\n",
    "from sklearn import linear_model\n",
    "from sklearn.feature_extraction.text import CountVectorizer, TfidfVectorizer\n",
    "from sklearn.metrics import accuracy_score, confusion_matrix\n",
    "import matplotlib.pyplot as plt\n",
    "from gensim.models import Word2Vec\n",
    "from sklearn.neighbors import KNeighborsClassifier\n",
    "from sklearn import linear_model\n",
    "import logging\n",
    "%matplotlib inline\n",
    "from itertools import islice\n",
    "from gensim.models import Doc2Vec\n",
    "from gensim.models.doc2vec import TaggedDocument\n",
    "logging.root.handlers = []  # Jupyter messes up logging so needs a reset\n",
    "logging.basicConfig(format='%(asctime)s : %(levelname)s : %(message)s', level=logging.INFO)"
   ]
  },
  {
   "cell_type": "code",
   "execution_count": null,
   "metadata": {
    "collapsed": false,
    "scrolled": true
   },
   "outputs": [],
   "source": [
    "##%%time \n",
    "##wv = Word2Vec.load_word2vec_format(\n",
    " ##   \"GoogleNews-vectors-negative300.bin.gz\",\n",
    "#   binary=True)\n",
    "#wv.init_sims(replace=True)"
   ]
  },
  {
   "cell_type": "markdown",
   "metadata": {},
   "source": [
    "### Функции для обработки данных"
   ]
  },
  {
   "cell_type": "code",
   "execution_count": 2,
   "metadata": {
    "collapsed": true
   },
   "outputs": [],
   "source": [
    "def tokenize_text(text): #токенизируем текст\n",
    "    tokens = []\n",
    "    for sent in nltk.sent_tokenize(text):\n",
    "        for word in nltk.word_tokenize(sent):\n",
    "            if len(word) < 2:\n",
    "                continue\n",
    "            tokens.append(word.lower())\n",
    "    return tokens"
   ]
  },
  {
   "cell_type": "code",
   "execution_count": 3,
   "metadata": {
    "collapsed": true
   },
   "outputs": [],
   "source": [
    "def clean_df(df, x=1, y=15): \n",
    "    #Чистим изначальный массив, берем определенное количество спикеров, по частоте их выступлений\n",
    "    \n",
    "    ind = df.Speaker.value_counts()[x:y].index # берем имена спикеров\n",
    "        \n",
    "    new_df=df[df.Speaker==ind[0]] # первый элемент дата фрейма \n",
    "    for i in range(1,len(ind)): # проходим по остальным элементам\n",
    "        new_df=pd.concat([new_df,df[df.Speaker==ind[i]]]) # добавляем последующие подмассивы в основной\n",
    "\n",
    "    return new_df # выводим"
   ]
  },
  {
   "cell_type": "markdown",
   "metadata": {},
   "source": [
    "### Считываем и чистим данные"
   ]
  },
  {
   "cell_type": "code",
   "execution_count": 4,
   "metadata": {
    "collapsed": true
   },
   "outputs": [],
   "source": [
    "data = pd.read_csv('primary_debates_cleaned.csv') #считываем текст\n",
    "df = clean_df(data) #чистим\n",
    "train_data, test_data = train_test_split(df, test_size=0.1, random_state=42) #разбиваем на выборки"
   ]
  },
  {
   "cell_type": "code",
   "execution_count": 5,
   "metadata": {
    "collapsed": false
   },
   "outputs": [],
   "source": [
    "ramil = pd.read_csv(\"ramil.csv\",sep=';') # как независисый приме возmvмем ряд текстов независимых"
   ]
  },
  {
   "cell_type": "markdown",
   "metadata": {},
   "source": [
    "### Токенизируем"
   ]
  },
  {
   "cell_type": "code",
   "execution_count": 6,
   "metadata": {
    "collapsed": false
   },
   "outputs": [],
   "source": [
    "train_tagged = train_data.apply(lambda r: TaggedDocument(words=tokenize_text(r['Text']), tags=[r.Speaker]), axis=1) #токенизируем+ставим тэг на каждый текст по спикеру\n",
    "test_tagged = test_data.apply(lambda r: TaggedDocument(words=tokenize_text(r['Text']), tags=[r.Speaker]), axis=1) #токенизируем+ ставим тэг на каждый текст по спикеру"
   ]
  },
  {
   "cell_type": "code",
   "execution_count": 7,
   "metadata": {
    "collapsed": false
   },
   "outputs": [],
   "source": [
    "tokramil = ramil.apply(lambda r: TaggedDocument(words=tokenize_text(r['Text']), tags=[r.Unknown]), axis=1)"
   ]
  },
  {
   "cell_type": "code",
   "execution_count": 8,
   "metadata": {
    "collapsed": true
   },
   "outputs": [],
   "source": [
    "trainsent = train_tagged.values # сохраняем значения текст разбитый на слова и спикера\n",
    "testsent = test_tagged.values # сохраняем значения текст разбитый на слова и спикера"
   ]
  },
  {
   "cell_type": "code",
   "execution_count": 9,
   "metadata": {
    "collapsed": false
   },
   "outputs": [],
   "source": [
    "ramilsent = tokramil.values"
   ]
  },
  {
   "cell_type": "markdown",
   "metadata": {},
   "source": [
    "### Тренируем модель"
   ]
  },
  {
   "cell_type": "code",
   "execution_count": 10,
   "metadata": {
    "collapsed": false
   },
   "outputs": [
    {
     "name": "stderr",
     "output_type": "stream",
     "text": [
      "2016-11-03 19:08:19,907 : WARNING : consider setting layer size to a multiple of 4 for greater performance\n",
      "2016-11-03 19:08:19,908 : INFO : collecting all words and their counts\n",
      "2016-11-03 19:08:19,910 : INFO : PROGRESS: at example #0, processed 0 words (0/s), 0 word types, 0 tags\n",
      "2016-11-03 19:08:19,986 : INFO : collected 9466 word types and 14 unique tags from a corpus of 5691 examples and 266029 words\n",
      "2016-11-03 19:08:19,986 : INFO : Loading a fresh vocabulary\n",
      "2016-11-03 19:08:20,009 : INFO : min_count=5 retains 3238 unique words (34% of original 9466, drops 6228)\n",
      "2016-11-03 19:08:20,010 : INFO : min_count=5 leaves 255279 word corpus (95% of original 266029, drops 10750)\n",
      "2016-11-03 19:08:20,019 : INFO : deleting the raw counts dictionary of 9466 items\n",
      "2016-11-03 19:08:20,020 : INFO : sample=0 downsamples 0 most-common words\n",
      "2016-11-03 19:08:20,023 : INFO : downsampling leaves estimated 255279 word corpus (100.0% of prior 255279)\n",
      "2016-11-03 19:08:20,026 : INFO : estimated required memory for 3238 words and 150 dimensions: 6163400 bytes\n",
      "2016-11-03 19:08:20,032 : INFO : constructing a huffman tree from 3238 words\n",
      "2016-11-03 19:08:20,124 : INFO : built huffman tree with maximum node depth 16\n",
      "2016-11-03 19:08:20,127 : INFO : resetting layer weights\n",
      "2016-11-03 19:08:20,176 : INFO : training model with 4 workers on 3238 vocabulary and 150 features, using sg=0 hs=1 sample=0 negative=0 window=8\n",
      "2016-11-03 19:08:20,177 : INFO : expecting 5691 sentences, matching count from corpus used for vocabulary survey\n",
      "2016-11-03 19:08:21,209 : INFO : PROGRESS: at 27.73% examples, 700954 words/s, in_qsize 7, out_qsize 0\n",
      "2016-11-03 19:08:22,224 : INFO : PROGRESS: at 57.59% examples, 733662 words/s, in_qsize 8, out_qsize 0\n",
      "2016-11-03 19:08:23,230 : INFO : PROGRESS: at 87.07% examples, 744432 words/s, in_qsize 8, out_qsize 0\n",
      "2016-11-03 19:08:23,635 : INFO : worker thread finished; awaiting finish of 3 more threads\n",
      "2016-11-03 19:08:23,667 : INFO : worker thread finished; awaiting finish of 2 more threads\n",
      "2016-11-03 19:08:23,668 : INFO : worker thread finished; awaiting finish of 1 more threads\n",
      "2016-11-03 19:08:23,673 : INFO : worker thread finished; awaiting finish of 0 more threads\n",
      "2016-11-03 19:08:23,674 : INFO : training on 2660290 raw words (2609700 effective words) took 3.5s, 746991 effective words/s\n"
     ]
    }
   ],
   "source": [
    "doc2vec_model = Doc2Vec(trainsent, workers=4, size=150, iter=10, dm=1) #обучаем модель кличество слов итераций и тп\n"
   ]
  },
  {
   "cell_type": "markdown",
   "metadata": {},
   "source": [
    "### Превращаем все в вектора согласно весам модели"
   ]
  },
  {
   "cell_type": "code",
   "execution_count": 11,
   "metadata": {
    "collapsed": true
   },
   "outputs": [],
   "source": [
    "train_targets, train_regressors = zip(                                                \n",
    "    *[(doc.tags[0], doc2vec_model.infer_vector(doc.words, steps=5)) for doc in trainsent]) #векторизуем\n",
    "test_targets, test_regressors = zip(\n",
    "    *[(doc.tags[0], doc2vec_model.infer_vector(doc.words, steps=5)) for doc in testsent])"
   ]
  },
  {
   "cell_type": "code",
   "execution_count": 12,
   "metadata": {
    "collapsed": false,
    "scrolled": true
   },
   "outputs": [],
   "source": [
    "ram_targets, ram_regressors = zip(\n",
    "    *[(doc.tags[0], doc2vec_model.infer_vector(doc.words, steps=5)) for doc in ramilsent])"
   ]
  },
  {
   "cell_type": "markdown",
   "metadata": {},
   "source": [
    "### Описываем функцию оценки"
   ]
  },
  {
   "cell_type": "code",
   "execution_count": 13,
   "metadata": {
    "collapsed": true
   },
   "outputs": [],
   "source": [
    "def evaluate_prediction(predictions, target, title=\"Confusion matrix\"):\n",
    "    print('accuracy %s' % accuracy_score(target, predictions))\n",
    "    cm = confusion_matrix(target, predictions)\n",
    "    print('confusion matrix\\n %s' % cm)\n",
    "    print('(row=expected, col=predicted)')\n",
    "    \n",
    "    cm_normalized = cm.astype('float') / cm.sum(axis=1)[:, np.newaxis]\n",
    "    plot_confusion_matrix(cm_normalized, title + ' Normalized')"
   ]
  },
  {
   "cell_type": "markdown",
   "metadata": {},
   "source": [
    "### Визуализируем"
   ]
  },
  {
   "cell_type": "code",
   "execution_count": 14,
   "metadata": {
    "collapsed": false
   },
   "outputs": [],
   "source": [
    "from sklearn.metrics import accuracy_score, confusion_matrix\n",
    "def plot_confusion_matrix(cm, title='Confusion matrix', cmap=\"cool\"):\n",
    "    \n",
    "    plt.figure(figsize=(8,8))\n",
    "    plt.imshow(cm, interpolation='nearest', cmap=cmap)\n",
    "    plt.title(title)\n",
    "    plt.colorbar()\n",
    "    tick_marks = np.arange(len(my_tags))\n",
    "    target_names = my_tags\n",
    "    plt.xticks(tick_marks, target_names, rotation=45)\n",
    "    plt.yticks(tick_marks, target_names)\n",
    "    plt.tight_layout()\n",
    "    plt.ylabel('True label')\n",
    "    plt.xlabel('Predicted label')\n"
   ]
  },
  {
   "cell_type": "code",
   "execution_count": 17,
   "metadata": {
    "collapsed": true
   },
   "outputs": [],
   "source": [
    "logreg = linear_model.LogisticRegression(n_jobs=20, C=1e5) ### определяем регрессию\n",
    "my_tags = df.Speaker.unique()"
   ]
  },
  {
   "cell_type": "code",
   "execution_count": 18,
   "metadata": {
    "collapsed": false
   },
   "outputs": [
    {
     "name": "stdout",
     "output_type": "stream",
     "text": [
      "accuracy 0.518167456556\n",
      "confusion matrix\n",
      " [[ 4  6  2  0  1  3  0  0  2  0  2  3  3  1]\n",
      " [ 1 17  0  0  0  5  1  1  0  0  1  0  8  2]\n",
      " [ 0  0 10  0  2  1  0  1  0  0  1  1  0  4]\n",
      " [ 0  0  0 32  0  0  0  0  0  0  0  0  0  0]\n",
      " [ 1  0  1  0 31  3  3  1  0  0  4 10  3 13]\n",
      " [ 0  4  0  0  0 11  1  0  1  0  2  1  6  1]\n",
      " [ 1  0  1  0  1  0 21  2  1  1  2  7  0  7]\n",
      " [ 1  0  2  0  4  0  1 10  1  0  4  3  1  7]\n",
      " [ 0  5  2  0  4  0  3  1  1  0  1  0  2  4]\n",
      " [ 0  0  0  0  0  0  0  0  0 40  0  0  0  0]\n",
      " [ 1  1  2  0  2  2 11  2  1  0 18  4  2  8]\n",
      " [ 1  2  1  0  5  1  5  3  1  0  3 47  2 15]\n",
      " [ 0  5  0  0  1  1  1  0  2  0  0  0 20  4]\n",
      " [ 0  4  3  0  7  2  2  1  3  0  3 13  2 66]]\n",
      "(row=expected, col=predicted)\n"
     ]
    },
    {
     "data": {
      "image/png": "iVBORw0KGgoAAAANSUhEUgAAAwcAAAMLCAYAAAAbmus0AAAABHNCSVQICAgIfAhkiAAAAAlwSFlz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\nkiRJgHQOkiRJkiRJkiQp/D808xu3tO419wAAAABJRU5ErkJggg==\n",
      "text/plain": [
       "<matplotlib.figure.Figure at 0x117da4a8>"
      ]
     },
     "metadata": {},
     "output_type": "display_data"
    }
   ],
   "source": [
    "logreg = logreg.fit(train_regressors, train_targets) ### учим регрессию\n",
    "evaluate_prediction(logreg.predict(test_regressors), test_targets, title=str(doc2vec_model)) ###оцениваем результаты\n"
   ]
  },
  {
   "cell_type": "code",
   "execution_count": 19,
   "metadata": {
    "collapsed": false
   },
   "outputs": [
    {
     "data": {
      "text/plain": [
       "array(['Trump', 'Cruz', 'Trump', 'Clinton', 'Trump', 'Cruz', 'Trump',\n",
       "       'Clinton', 'Trump', 'Cruz', 'Trump', 'Clinton', 'Trump', 'Cruz',\n",
       "       'Trump', 'Clinton', 'Clinton'], \n",
       "      dtype='|S10')"
      ]
     },
     "execution_count": 19,
     "metadata": {},
     "output_type": "execute_result"
    }
   ],
   "source": [
    "reg = logreg.predict(ram_regressors)\n",
    "reg"
   ]
  },
  {
   "cell_type": "code",
   "execution_count": 20,
   "metadata": {
    "collapsed": false
   },
   "outputs": [],
   "source": [
    "v = np.asarray(train_regressors)\n",
    "v=pd.DataFrame(v)\n",
    "doc2vec_model.most_similar(positive=["friend"],negative=["putin"])\n",
    "df.to_csv('class.csv', index=None)"
   ]
  }
 ],
 "metadata": {
  "anaconda-cloud": {},
  "kernelspec": {
   "display_name": "Python [default]",
   "language": "python",
   "name": "python2"
  },
  "language_info": {
   "codemirror_mode": {
    "name": "ipython",
    "version": 2
   },
   "file_extension": ".py",
   "mimetype": "text/x-python",
   "name": "python",
   "nbconvert_exporter": "python",
   "pygments_lexer": "ipython2",
   "version": "2.7.12"
  }
 },
 "nbformat": 4,
 "nbformat_minor": 1
}
